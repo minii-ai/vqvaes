{
 "cells": [
  {
   "cell_type": "code",
   "execution_count": 1,
   "metadata": {},
   "outputs": [],
   "source": [
    "%load_ext autoreload\n",
    "%autoreload 2"
   ]
  },
  {
   "cell_type": "code",
   "execution_count": 2,
   "metadata": {},
   "outputs": [],
   "source": [
    "import sys\n",
    "sys.path.append(\"../\")\n",
    "\n",
    "from vqvaes.models import build_vqvae\n",
    "from vqvaes.models.vq import VQ\n",
    "from vqvaes.models.layers import Encoder, Decoder\n",
    "import torch"
   ]
  },
  {
   "cell_type": "code",
   "execution_count": 3,
   "metadata": {},
   "outputs": [
    {
     "data": {
      "text/plain": [
       "<torch._C.Generator at 0x150e397b2ad0>"
      ]
     },
     "execution_count": 3,
     "metadata": {},
     "output_type": "execute_result"
    }
   ],
   "source": [
    "torch.manual_seed(0)"
   ]
  },
  {
   "cell_type": "code",
   "execution_count": 4,
   "metadata": {},
   "outputs": [
    {
     "data": {
      "text/plain": [
       "VQ(\n",
       "  (codebook): Embedding(4, 12)\n",
       ")"
      ]
     },
     "execution_count": 4,
     "metadata": {},
     "output_type": "execute_result"
    }
   ],
   "source": [
    "vq = VQ(\n",
    "    codebook_size=4,\n",
    "    codebook_dim=12\n",
    ")\n",
    "\n",
    "vq"
   ]
  },
  {
   "cell_type": "code",
   "execution_count": 11,
   "metadata": {},
   "outputs": [
    {
     "data": {
      "text/plain": [
       "{'quantize': tensor([[[[ 0.7502, -0.5855, -0.1734,  0.1835,  1.3894,  1.5863,  0.9463,\n",
       "            -0.8437, -0.6136,  0.0316, -0.4927,  0.2484],\n",
       "           [ 0.4397,  0.1124,  0.6408,  0.4412, -0.1023,  0.7924, -0.2897,\n",
       "             0.0525,  0.5229,  2.3022, -1.4689, -1.5867],\n",
       "           [ 0.7502, -0.5855, -0.1734,  0.1835,  1.3894,  1.5863,  0.9463,\n",
       "            -0.8437, -0.6136,  0.0316, -0.4927,  0.2484]],\n",
       " \n",
       "          [[-1.1258, -1.1524, -0.2506, -0.4339,  0.8487,  0.6920, -0.3160,\n",
       "            -2.1152,  0.3223, -1.2633,  0.3500,  0.3081],\n",
       "           [-1.1258, -1.1524, -0.2506, -0.4339,  0.8487,  0.6920, -0.3160,\n",
       "            -2.1152,  0.3223, -1.2633,  0.3500,  0.3081],\n",
       "           [ 0.7502, -0.5855, -0.1734,  0.1835,  1.3894,  1.5863,  0.9463,\n",
       "            -0.8437, -0.6136,  0.0316, -0.4927,  0.2484]],\n",
       " \n",
       "          [[ 0.1198,  1.2377,  1.1168, -0.2473, -1.3527, -1.6959,  0.5667,\n",
       "             0.7935,  0.5988, -1.5551, -0.3414,  1.8530],\n",
       "           [ 0.7502, -0.5855, -0.1734,  0.1835,  1.3894,  1.5863,  0.9463,\n",
       "            -0.8437, -0.6136,  0.0316, -0.4927,  0.2484],\n",
       "           [-1.1258, -1.1524, -0.2506, -0.4339,  0.8487,  0.6920, -0.3160,\n",
       "            -2.1152,  0.3223, -1.2633,  0.3500,  0.3081]]]],\n",
       "        grad_fn=<AddBackward0>),\n",
       " 'loss': tensor(1.7203, grad_fn=<AddBackward0>),\n",
       " 'perplexity': tensor(3.3699)}"
      ]
     },
     "execution_count": 11,
     "metadata": {},
     "output_type": "execute_result"
    }
   ],
   "source": [
    "encoding = torch.randn((1, 3, 3, 12), requires_grad=True)\n",
    "vq(encoding)"
   ]
  },
  {
   "cell_type": "code",
   "execution_count": 12,
   "metadata": {},
   "outputs": [
    {
     "data": {
      "text/plain": [
       "(torch.Size([1, 2]), torch.Size([2, 2]))"
      ]
     },
     "execution_count": 12,
     "metadata": {},
     "output_type": "execute_result"
    }
   ],
   "source": [
    "a = torch.tensor([[1, 2]])\n",
    "b = torch.tensor([[3, 4],\n",
    "                  [5, 6]])\n",
    "a.shape, b.shape"
   ]
  },
  {
   "cell_type": "code",
   "execution_count": 13,
   "metadata": {},
   "outputs": [
    {
     "data": {
      "text/plain": [
       "tensor([[-2, -2],\n",
       "        [-4, -4]])"
      ]
     },
     "execution_count": 13,
     "metadata": {},
     "output_type": "execute_result"
    }
   ],
   "source": [
    "c = a - b\n",
    "c"
   ]
  },
  {
   "cell_type": "code",
   "execution_count": 14,
   "metadata": {},
   "outputs": [
    {
     "data": {
      "text/plain": [
       "Encoder(\n",
       "  (encoder): Sequential(\n",
       "    (0): Conv2d(3, 8, kernel_size=(4, 4), stride=(2, 2), padding=(1, 1))\n",
       "    (1): ReLU()\n",
       "    (2): Conv2d(8, 16, kernel_size=(4, 4), stride=(2, 2), padding=(1, 1))\n",
       "    (3): ReLU()\n",
       "    (4): Conv2d(16, 16, kernel_size=(3, 3), stride=(1, 1), padding=(1, 1))\n",
       "    (5): ResidualStack(\n",
       "      (stack): Sequential(\n",
       "        (0): ResidualBlock(\n",
       "          (conv): Sequential(\n",
       "            (0): ReLU()\n",
       "            (1): Conv2d(16, 8, kernel_size=(3, 3), stride=(1, 1), padding=(1, 1))\n",
       "            (2): ReLU()\n",
       "            (3): Conv2d(8, 16, kernel_size=(1, 1), stride=(1, 1))\n",
       "          )\n",
       "        )\n",
       "        (1): ResidualBlock(\n",
       "          (conv): Sequential(\n",
       "            (0): ReLU()\n",
       "            (1): Conv2d(16, 8, kernel_size=(3, 3), stride=(1, 1), padding=(1, 1))\n",
       "            (2): ReLU()\n",
       "            (3): Conv2d(8, 16, kernel_size=(1, 1), stride=(1, 1))\n",
       "          )\n",
       "        )\n",
       "      )\n",
       "    )\n",
       "  )\n",
       ")"
      ]
     },
     "execution_count": 14,
     "metadata": {},
     "output_type": "execute_result"
    }
   ],
   "source": [
    "encoder = Encoder(\n",
    "    in_channels=3,\n",
    "    num_channels=16,\n",
    "    num_residual_blocks=2,\n",
    "    num_residual_channels=8\n",
    ")\n",
    "\n",
    "encoder"
   ]
  },
  {
   "cell_type": "code",
   "execution_count": 15,
   "metadata": {},
   "outputs": [
    {
     "data": {
      "text/plain": [
       "torch.Size([1, 16, 32, 32])"
      ]
     },
     "execution_count": 15,
     "metadata": {},
     "output_type": "execute_result"
    }
   ],
   "source": [
    "input = torch.randn((1, 3, 128, 128))\n",
    "encoder_output = encoder(input)\n",
    "encoder_output.shape"
   ]
  },
  {
   "cell_type": "code",
   "execution_count": 16,
   "metadata": {},
   "outputs": [
    {
     "data": {
      "text/plain": [
       "Decoder(\n",
       "  (decoder): Sequential(\n",
       "    (0): Conv2d(16, 16, kernel_size=(3, 3), stride=(1, 1), padding=(1, 1))\n",
       "    (1): ResidualStack(\n",
       "      (stack): Sequential(\n",
       "        (0): ResidualBlock(\n",
       "          (conv): Sequential(\n",
       "            (0): ReLU()\n",
       "            (1): Conv2d(16, 8, kernel_size=(3, 3), stride=(1, 1), padding=(1, 1))\n",
       "            (2): ReLU()\n",
       "            (3): Conv2d(8, 16, kernel_size=(1, 1), stride=(1, 1))\n",
       "          )\n",
       "        )\n",
       "        (1): ResidualBlock(\n",
       "          (conv): Sequential(\n",
       "            (0): ReLU()\n",
       "            (1): Conv2d(16, 8, kernel_size=(3, 3), stride=(1, 1), padding=(1, 1))\n",
       "            (2): ReLU()\n",
       "            (3): Conv2d(8, 16, kernel_size=(1, 1), stride=(1, 1))\n",
       "          )\n",
       "        )\n",
       "      )\n",
       "    )\n",
       "    (2): ConvTranspose2d(16, 8, kernel_size=(4, 4), stride=(2, 2), padding=(1, 1))\n",
       "    (3): ReLU()\n",
       "    (4): ConvTranspose2d(8, 3, kernel_size=(4, 4), stride=(2, 2), padding=(1, 1))\n",
       "  )\n",
       ")"
      ]
     },
     "execution_count": 16,
     "metadata": {},
     "output_type": "execute_result"
    }
   ],
   "source": [
    "decoder = Decoder(\n",
    "    in_channels=16,\n",
    "    out_channels=3,\n",
    "    num_residual_blocks=2,\n",
    "    num_residual_channels=8\n",
    ")\n",
    "\n",
    "decoder"
   ]
  },
  {
   "cell_type": "code",
   "execution_count": 17,
   "metadata": {},
   "outputs": [
    {
     "data": {
      "text/plain": [
       "torch.Size([1, 3, 128, 128])"
      ]
     },
     "execution_count": 17,
     "metadata": {},
     "output_type": "execute_result"
    }
   ],
   "source": [
    "decoder_output = decoder(encoder_output)\n",
    "decoder_output.shape"
   ]
  },
  {
   "cell_type": "code",
   "execution_count": 18,
   "metadata": {},
   "outputs": [
    {
     "data": {
      "text/plain": [
       "VQVAE(\n",
       "  (encoder): Encoder(\n",
       "    (encoder): Sequential(\n",
       "      (0): Conv2d(3, 8, kernel_size=(4, 4), stride=(2, 2), padding=(1, 1))\n",
       "      (1): ReLU()\n",
       "      (2): Conv2d(8, 16, kernel_size=(4, 4), stride=(2, 2), padding=(1, 1))\n",
       "      (3): ReLU()\n",
       "      (4): Conv2d(16, 16, kernel_size=(3, 3), stride=(1, 1), padding=(1, 1))\n",
       "      (5): ResidualStack(\n",
       "        (stack): Sequential(\n",
       "          (0): ResidualBlock(\n",
       "            (conv): Sequential(\n",
       "              (0): ReLU()\n",
       "              (1): Conv2d(16, 8, kernel_size=(3, 3), stride=(1, 1), padding=(1, 1))\n",
       "              (2): ReLU()\n",
       "              (3): Conv2d(8, 16, kernel_size=(1, 1), stride=(1, 1))\n",
       "            )\n",
       "          )\n",
       "          (1): ResidualBlock(\n",
       "            (conv): Sequential(\n",
       "              (0): ReLU()\n",
       "              (1): Conv2d(16, 8, kernel_size=(3, 3), stride=(1, 1), padding=(1, 1))\n",
       "              (2): ReLU()\n",
       "              (3): Conv2d(8, 16, kernel_size=(1, 1), stride=(1, 1))\n",
       "            )\n",
       "          )\n",
       "        )\n",
       "      )\n",
       "    )\n",
       "  )\n",
       "  (pre_vq): Conv2d(16, 12, kernel_size=(1, 1), stride=(1, 1))\n",
       "  (vq): VQ(\n",
       "    (codebook): Embedding(4, 12)\n",
       "  )\n",
       "  (decoder): Decoder(\n",
       "    (decoder): Sequential(\n",
       "      (0): Conv2d(12, 12, kernel_size=(3, 3), stride=(1, 1), padding=(1, 1))\n",
       "      (1): ResidualStack(\n",
       "        (stack): Sequential(\n",
       "          (0): ResidualBlock(\n",
       "            (conv): Sequential(\n",
       "              (0): ReLU()\n",
       "              (1): Conv2d(12, 8, kernel_size=(3, 3), stride=(1, 1), padding=(1, 1))\n",
       "              (2): ReLU()\n",
       "              (3): Conv2d(8, 12, kernel_size=(1, 1), stride=(1, 1))\n",
       "            )\n",
       "          )\n",
       "          (1): ResidualBlock(\n",
       "            (conv): Sequential(\n",
       "              (0): ReLU()\n",
       "              (1): Conv2d(12, 8, kernel_size=(3, 3), stride=(1, 1), padding=(1, 1))\n",
       "              (2): ReLU()\n",
       "              (3): Conv2d(8, 12, kernel_size=(1, 1), stride=(1, 1))\n",
       "            )\n",
       "          )\n",
       "        )\n",
       "      )\n",
       "      (2): ConvTranspose2d(12, 6, kernel_size=(4, 4), stride=(2, 2), padding=(1, 1))\n",
       "      (3): ReLU()\n",
       "      (4): ConvTranspose2d(6, 3, kernel_size=(4, 4), stride=(2, 2), padding=(1, 1))\n",
       "    )\n",
       "  )\n",
       ")"
      ]
     },
     "execution_count": 18,
     "metadata": {},
     "output_type": "execute_result"
    }
   ],
   "source": [
    "vqvae = build_vqvae(\n",
    "    codebook_size=4,\n",
    "    codebook_dim=12,\n",
    "    in_channels=3,\n",
    "    num_channels=16,\n",
    "    num_residual_blocks=2,\n",
    "    num_residual_channels=8\n",
    ")\n",
    "\n",
    "vqvae"
   ]
  },
  {
   "cell_type": "code",
   "execution_count": 19,
   "metadata": {},
   "outputs": [
    {
     "data": {
      "text/plain": [
       "(tensor([[[[-0.0875, -0.0195, -0.1159,  ..., -0.0513, -0.0977, -0.0666],\n",
       "           [-0.0410, -0.0677, -0.0594,  ..., -0.0722, -0.1221, -0.0596],\n",
       "           [-0.0769, -0.1109, -0.1247,  ..., -0.0046, -0.0660, -0.0894],\n",
       "           ...,\n",
       "           [-0.0882, -0.0533,  0.0177,  ..., -0.1384, -0.0649, -0.0333],\n",
       "           [-0.0996, -0.1146, -0.1462,  ..., -0.0664, -0.1311, -0.1002],\n",
       "           [-0.0599, -0.0733, -0.0410,  ..., -0.0884, -0.0584, -0.0508]],\n",
       " \n",
       "          [[-0.0022, -0.0190, -0.0107,  ...,  0.0084, -0.0137,  0.0125],\n",
       "           [-0.0052,  0.0245, -0.0473,  ...,  0.0631,  0.0003,  0.0259],\n",
       "           [-0.0060,  0.0080, -0.0332,  ..., -0.0217, -0.0351,  0.0238],\n",
       "           ...,\n",
       "           [ 0.0284,  0.0316, -0.0884,  ..., -0.0796,  0.0082,  0.0566],\n",
       "           [ 0.0233,  0.0420, -0.0359,  ...,  0.0490, -0.0082,  0.0540],\n",
       "           [ 0.0110,  0.0054,  0.0051,  ..., -0.0223,  0.0143,  0.0194]],\n",
       " \n",
       "          [[ 0.0590,  0.0154,  0.0851,  ...,  0.0267,  0.0908,  0.0626],\n",
       "           [ 0.0921,  0.0443,  0.1118,  ...,  0.0512,  0.0595,  0.0602],\n",
       "           [ 0.0511,  0.0921,  0.0786,  ...,  0.0271,  0.0554,  0.0437],\n",
       "           ...,\n",
       "           [ 0.1078,  0.0407,  0.1220,  ...,  0.0397,  0.1120,  0.0138],\n",
       "           [ 0.0707,  0.1049,  0.0788,  ...,  0.0208,  0.0787,  0.0481],\n",
       "           [ 0.0718,  0.0239,  0.0422,  ...,  0.0299,  0.0308,  0.0356]]]],\n",
       "        grad_fn=<ConvolutionBackward0>),\n",
       " {'quantize': tensor([[[[-0.6990, -0.6990, -0.6990,  ..., -0.6990, -0.6990, -0.6990],\n",
       "            [-0.6990, -0.6990, -0.6990,  ..., -0.6990, -0.6990, -0.6990],\n",
       "            [-0.6990, -0.6990, -0.6990,  ..., -0.6990, -0.6990, -0.6990],\n",
       "            ...,\n",
       "            [-0.6990, -0.6990, -0.6990,  ..., -0.6990, -0.6990, -0.6990],\n",
       "            [-0.6990, -0.6990, -0.6990,  ..., -0.6990, -0.6990, -0.6990],\n",
       "            [-0.6990, -0.6990, -0.6990,  ..., -0.6990, -0.6990, -0.6990]],\n",
       "  \n",
       "           [[ 0.1926,  0.1926,  0.1926,  ...,  0.1926,  0.1926,  0.1926],\n",
       "            [ 0.1926,  0.1926,  0.1926,  ...,  0.1926,  0.1926,  0.1926],\n",
       "            [ 0.1926,  0.1926,  0.1926,  ...,  0.1926,  0.1926,  0.1926],\n",
       "            ...,\n",
       "            [ 0.1926,  0.1926,  0.1926,  ...,  0.1926,  0.1926,  0.1926],\n",
       "            [ 0.1926,  0.1926,  0.1926,  ...,  0.1926,  0.1926,  0.1926],\n",
       "            [ 0.1926,  0.1926,  0.1926,  ...,  0.1926,  0.1926,  0.1926]],\n",
       "  \n",
       "           [[ 1.3478,  1.3478,  1.3478,  ...,  1.3478,  1.3478,  1.3478],\n",
       "            [ 1.3478,  1.3478,  1.3478,  ...,  1.3478,  1.3478,  1.3478],\n",
       "            [ 1.3478,  1.3478,  1.3478,  ...,  1.3478,  1.3478,  1.3478],\n",
       "            ...,\n",
       "            [ 1.3478,  1.3478,  1.3478,  ...,  1.3478,  1.3478,  1.3478],\n",
       "            [ 1.3478,  1.3478,  1.3478,  ...,  1.3478,  1.3478,  1.3478],\n",
       "            [ 1.3478,  1.3478,  1.3478,  ...,  1.3478,  1.3478,  1.3478]],\n",
       "  \n",
       "           ...,\n",
       "  \n",
       "           [[-1.4402, -1.4402, -1.4402,  ..., -1.4402, -1.4402, -1.4402],\n",
       "            [-1.4402, -1.4402, -1.4402,  ..., -1.4402, -1.4402, -1.4402],\n",
       "            [-1.4402, -1.4402, -1.4402,  ..., -1.4402, -1.4402, -1.4402],\n",
       "            ...,\n",
       "            [-1.4402, -1.4402, -1.4402,  ..., -1.4402, -1.4402, -1.4402],\n",
       "            [-1.4402, -1.4402, -1.4402,  ..., -1.4402, -1.4402, -1.4402],\n",
       "            [-1.4402, -1.4402, -1.4402,  ..., -1.4402, -1.4402, -1.4402]],\n",
       "  \n",
       "           [[ 0.6839,  0.6839,  0.6839,  ...,  0.6839,  0.6839,  0.6839],\n",
       "            [ 0.6839,  0.6839,  0.6839,  ...,  0.6839,  0.6839,  0.6839],\n",
       "            [ 0.6839,  0.6839,  0.6839,  ...,  0.6839,  0.6839,  0.6839],\n",
       "            ...,\n",
       "            [ 0.6839,  0.6839,  0.6839,  ...,  0.6839,  0.6839,  0.6839],\n",
       "            [ 0.6839,  0.6839,  0.6839,  ...,  0.6839,  0.6839,  0.6839],\n",
       "            [ 0.6839,  0.6839,  0.6839,  ...,  0.6839,  0.6839,  0.6839]],\n",
       "  \n",
       "           [[ 0.6694,  0.6694,  0.6694,  ...,  0.6694,  0.6694,  0.6694],\n",
       "            [ 0.6694,  0.6694,  0.6694,  ...,  0.6694,  0.6694,  0.6694],\n",
       "            [ 0.6694,  0.6694,  0.6694,  ...,  0.6694,  0.6694,  0.6694],\n",
       "            ...,\n",
       "            [ 0.6694,  0.6694,  0.6694,  ...,  0.6694,  0.6694,  0.6694],\n",
       "            [ 0.6694,  0.6694,  0.6694,  ...,  0.6694,  0.6694,  0.6694],\n",
       "            [ 0.6694,  0.6694,  0.6694,  ...,  0.6694,  0.6694,  0.6694]]]],\n",
       "         grad_fn=<PermuteBackward0>),\n",
       "  'loss': tensor(0.9146, grad_fn=<AddBackward0>),\n",
       "  'perplexity': tensor(1.)})"
      ]
     },
     "execution_count": 19,
     "metadata": {},
     "output_type": "execute_result"
    }
   ],
   "source": [
    "inputs = torch.randn((1, 3, 128, 128))\n",
    "vqvae(inputs)"
   ]
  },
  {
   "cell_type": "code",
   "execution_count": null,
   "metadata": {},
   "outputs": [],
   "source": []
  }
 ],
 "metadata": {
  "kernelspec": {
   "display_name": "vqvaes-Y5Ctg_tt-py3.10",
   "language": "python",
   "name": "python3"
  },
  "language_info": {
   "codemirror_mode": {
    "name": "ipython",
    "version": 3
   },
   "file_extension": ".py",
   "mimetype": "text/x-python",
   "name": "python",
   "nbconvert_exporter": "python",
   "pygments_lexer": "ipython3",
   "version": "3.10.10"
  }
 },
 "nbformat": 4,
 "nbformat_minor": 2
}
