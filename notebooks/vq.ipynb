{
 "cells": [
  {
   "cell_type": "code",
   "execution_count": 1,
   "metadata": {},
   "outputs": [],
   "source": [
    "%load_ext autoreload\n",
    "%autoreload 2"
   ]
  },
  {
   "cell_type": "code",
   "execution_count": 2,
   "metadata": {},
   "outputs": [],
   "source": [
    "import sys\n",
    "sys.path.append(\"../\")\n",
    "\n",
    "from vqvaes.models import build_vqvae\n",
    "from vqvaes.models.vq import VQ\n",
    "from vqvaes.models.layers import Encoder, Decoder\n",
    "import torch"
   ]
  },
  {
   "cell_type": "code",
   "execution_count": 3,
   "metadata": {},
   "outputs": [
    {
     "data": {
      "text/plain": [
       "<torch._C.Generator at 0x14d8963cb030>"
      ]
     },
     "execution_count": 3,
     "metadata": {},
     "output_type": "execute_result"
    }
   ],
   "source": [
    "torch.manual_seed(0)"
   ]
  },
  {
   "cell_type": "code",
   "execution_count": 4,
   "metadata": {},
   "outputs": [
    {
     "data": {
      "text/plain": [
       "VQ(\n",
       "  (codebook): Embedding(4, 12)\n",
       ")"
      ]
     },
     "execution_count": 4,
     "metadata": {},
     "output_type": "execute_result"
    }
   ],
   "source": [
    "vq = VQ(\n",
    "    codebook_size=4,\n",
    "    codebook_dim=12\n",
    ")\n",
    "\n",
    "vq"
   ]
  },
  {
   "cell_type": "code",
   "execution_count": 5,
   "metadata": {},
   "outputs": [
    {
     "name": "stderr",
     "output_type": "stream",
     "text": [
      "/home/ubuntu/.cache/pypoetry/virtualenvs/vqvaes-Y5Ctg_tt-py3.10/lib/python3.10/site-packages/torch/cuda/__init__.py:619: UserWarning: Can't initialize NVML\n",
      "  warnings.warn(\"Can't initialize NVML\")\n"
     ]
    },
    {
     "data": {
      "text/plain": [
       "{'quantized': tensor([[[[ 0.1198,  1.2377,  1.1168, -0.2473, -1.3527, -1.6959,  0.5667,\n",
       "             0.7935,  0.5988, -1.5551, -0.3414,  1.8530],\n",
       "           [ 0.4397,  0.1124,  0.6408,  0.4412, -0.1023,  0.7924, -0.2897,\n",
       "             0.0525,  0.5229,  2.3022, -1.4689, -1.5867],\n",
       "           [ 0.4397,  0.1124,  0.6408,  0.4412, -0.1023,  0.7924, -0.2897,\n",
       "             0.0525,  0.5229,  2.3022, -1.4689, -1.5867]],\n",
       " \n",
       "          [[ 0.7502, -0.5855, -0.1734,  0.1835,  1.3894,  1.5863,  0.9463,\n",
       "            -0.8437, -0.6136,  0.0316, -0.4927,  0.2484],\n",
       "           [ 0.1198,  1.2377,  1.1168, -0.2473, -1.3527, -1.6959,  0.5667,\n",
       "             0.7935,  0.5988, -1.5551, -0.3414,  1.8530],\n",
       "           [ 0.1198,  1.2377,  1.1168, -0.2473, -1.3527, -1.6959,  0.5667,\n",
       "             0.7935,  0.5988, -1.5551, -0.3414,  1.8530]],\n",
       " \n",
       "          [[ 0.7502, -0.5855, -0.1734,  0.1835,  1.3894,  1.5863,  0.9463,\n",
       "            -0.8437, -0.6136,  0.0316, -0.4927,  0.2484],\n",
       "           [ 0.7502, -0.5855, -0.1734,  0.1835,  1.3894,  1.5863,  0.9463,\n",
       "            -0.8437, -0.6136,  0.0316, -0.4927,  0.2484],\n",
       "           [ 0.7502, -0.5855, -0.1734,  0.1835,  1.3894,  1.5863,  0.9463,\n",
       "            -0.8437, -0.6136,  0.0316, -0.4927,  0.2484]]]],\n",
       "        grad_fn=<AddBackward0>),\n",
       " 'loss': tensor(1.5661, grad_fn=<AddBackward0>),\n",
       " 'perplexity': tensor(2.8888)}"
      ]
     },
     "execution_count": 5,
     "metadata": {},
     "output_type": "execute_result"
    }
   ],
   "source": [
    "encoding = torch.randn((1, 3, 3, 12), requires_grad=True)\n",
    "vq(encoding)"
   ]
  },
  {
   "cell_type": "code",
   "execution_count": 6,
   "metadata": {},
   "outputs": [
    {
     "data": {
      "text/plain": [
       "(torch.Size([1, 2]), torch.Size([2, 2]))"
      ]
     },
     "execution_count": 6,
     "metadata": {},
     "output_type": "execute_result"
    }
   ],
   "source": [
    "a = torch.tensor([[1, 2]])\n",
    "b = torch.tensor([[3, 4],\n",
    "                  [5, 6]])\n",
    "a.shape, b.shape"
   ]
  },
  {
   "cell_type": "code",
   "execution_count": 7,
   "metadata": {},
   "outputs": [
    {
     "data": {
      "text/plain": [
       "tensor([[-2, -2],\n",
       "        [-4, -4]])"
      ]
     },
     "execution_count": 7,
     "metadata": {},
     "output_type": "execute_result"
    }
   ],
   "source": [
    "c = a - b\n",
    "c"
   ]
  },
  {
   "cell_type": "code",
   "execution_count": 8,
   "metadata": {},
   "outputs": [
    {
     "data": {
      "text/plain": [
       "Encoder(\n",
       "  (encoder): Sequential(\n",
       "    (0): Conv2d(3, 8, kernel_size=(4, 4), stride=(2, 2), padding=(1, 1))\n",
       "    (1): ReLU()\n",
       "    (2): Conv2d(8, 16, kernel_size=(4, 4), stride=(2, 2), padding=(1, 1))\n",
       "    (3): ReLU()\n",
       "    (4): Conv2d(16, 16, kernel_size=(3, 3), stride=(1, 1), padding=(1, 1))\n",
       "    (5): ResidualStack(\n",
       "      (stack): Sequential(\n",
       "        (0): ResidualBlock(\n",
       "          (conv): Sequential(\n",
       "            (0): ReLU()\n",
       "            (1): Conv2d(16, 8, kernel_size=(3, 3), stride=(1, 1), padding=(1, 1))\n",
       "            (2): ReLU()\n",
       "            (3): Conv2d(8, 16, kernel_size=(1, 1), stride=(1, 1))\n",
       "          )\n",
       "        )\n",
       "        (1): ResidualBlock(\n",
       "          (conv): Sequential(\n",
       "            (0): ReLU()\n",
       "            (1): Conv2d(16, 8, kernel_size=(3, 3), stride=(1, 1), padding=(1, 1))\n",
       "            (2): ReLU()\n",
       "            (3): Conv2d(8, 16, kernel_size=(1, 1), stride=(1, 1))\n",
       "          )\n",
       "        )\n",
       "      )\n",
       "    )\n",
       "  )\n",
       ")"
      ]
     },
     "execution_count": 8,
     "metadata": {},
     "output_type": "execute_result"
    }
   ],
   "source": [
    "encoder = Encoder(\n",
    "    in_channels=3,\n",
    "    num_channels=16,\n",
    "    num_residual_blocks=2,\n",
    "    num_residual_channels=8\n",
    ")\n",
    "\n",
    "encoder"
   ]
  },
  {
   "cell_type": "code",
   "execution_count": 9,
   "metadata": {},
   "outputs": [
    {
     "data": {
      "text/plain": [
       "torch.Size([1, 16, 32, 32])"
      ]
     },
     "execution_count": 9,
     "metadata": {},
     "output_type": "execute_result"
    }
   ],
   "source": [
    "input = torch.randn((1, 3, 128, 128))\n",
    "encoder_output = encoder(input)\n",
    "encoder_output.shape"
   ]
  },
  {
   "cell_type": "code",
   "execution_count": 10,
   "metadata": {},
   "outputs": [
    {
     "data": {
      "text/plain": [
       "Decoder(\n",
       "  (decoder): Sequential(\n",
       "    (0): Conv2d(16, 16, kernel_size=(3, 3), stride=(1, 1), padding=(1, 1))\n",
       "    (1): ResidualStack(\n",
       "      (stack): Sequential(\n",
       "        (0): ResidualBlock(\n",
       "          (conv): Sequential(\n",
       "            (0): ReLU()\n",
       "            (1): Conv2d(16, 8, kernel_size=(3, 3), stride=(1, 1), padding=(1, 1))\n",
       "            (2): ReLU()\n",
       "            (3): Conv2d(8, 16, kernel_size=(1, 1), stride=(1, 1))\n",
       "          )\n",
       "        )\n",
       "        (1): ResidualBlock(\n",
       "          (conv): Sequential(\n",
       "            (0): ReLU()\n",
       "            (1): Conv2d(16, 8, kernel_size=(3, 3), stride=(1, 1), padding=(1, 1))\n",
       "            (2): ReLU()\n",
       "            (3): Conv2d(8, 16, kernel_size=(1, 1), stride=(1, 1))\n",
       "          )\n",
       "        )\n",
       "      )\n",
       "    )\n",
       "    (2): ConvTranspose2d(16, 8, kernel_size=(4, 4), stride=(2, 2), padding=(1, 1))\n",
       "    (3): ReLU()\n",
       "    (4): ConvTranspose2d(8, 3, kernel_size=(4, 4), stride=(2, 2), padding=(1, 1))\n",
       "  )\n",
       ")"
      ]
     },
     "execution_count": 10,
     "metadata": {},
     "output_type": "execute_result"
    }
   ],
   "source": [
    "decoder = Decoder(\n",
    "    in_channels=16,\n",
    "    out_channels=3,\n",
    "    num_residual_blocks=2,\n",
    "    num_residual_channels=8\n",
    ")\n",
    "\n",
    "decoder"
   ]
  },
  {
   "cell_type": "code",
   "execution_count": 11,
   "metadata": {},
   "outputs": [
    {
     "data": {
      "text/plain": [
       "torch.Size([1, 3, 128, 128])"
      ]
     },
     "execution_count": 11,
     "metadata": {},
     "output_type": "execute_result"
    }
   ],
   "source": [
    "decoder_output = decoder(encoder_output)\n",
    "decoder_output.shape"
   ]
  },
  {
   "cell_type": "code",
   "execution_count": 21,
   "metadata": {},
   "outputs": [
    {
     "data": {
      "text/plain": [
       "VQVAE(\n",
       "  (encoder): Encoder(\n",
       "    (encoder): Sequential(\n",
       "      (0): Conv2d(3, 8, kernel_size=(4, 4), stride=(2, 2), padding=(1, 1))\n",
       "      (1): ReLU()\n",
       "      (2): Conv2d(8, 16, kernel_size=(4, 4), stride=(2, 2), padding=(1, 1))\n",
       "      (3): ReLU()\n",
       "      (4): Conv2d(16, 16, kernel_size=(3, 3), stride=(1, 1), padding=(1, 1))\n",
       "      (5): ResidualStack(\n",
       "        (stack): Sequential(\n",
       "          (0): ResidualBlock(\n",
       "            (conv): Sequential(\n",
       "              (0): ReLU()\n",
       "              (1): Conv2d(16, 8, kernel_size=(3, 3), stride=(1, 1), padding=(1, 1))\n",
       "              (2): ReLU()\n",
       "              (3): Conv2d(8, 16, kernel_size=(1, 1), stride=(1, 1))\n",
       "            )\n",
       "          )\n",
       "          (1): ResidualBlock(\n",
       "            (conv): Sequential(\n",
       "              (0): ReLU()\n",
       "              (1): Conv2d(16, 8, kernel_size=(3, 3), stride=(1, 1), padding=(1, 1))\n",
       "              (2): ReLU()\n",
       "              (3): Conv2d(8, 16, kernel_size=(1, 1), stride=(1, 1))\n",
       "            )\n",
       "          )\n",
       "        )\n",
       "      )\n",
       "    )\n",
       "  )\n",
       "  (pre_vq): Conv2d(16, 12, kernel_size=(1, 1), stride=(1, 1))\n",
       "  (vq): VQ(\n",
       "    (codebook): Embedding(4, 12)\n",
       "  )\n",
       "  (decoder): Decoder(\n",
       "    (decoder): Sequential(\n",
       "      (0): Conv2d(12, 12, kernel_size=(3, 3), stride=(1, 1), padding=(1, 1))\n",
       "      (1): ResidualStack(\n",
       "        (stack): Sequential(\n",
       "          (0): ResidualBlock(\n",
       "            (conv): Sequential(\n",
       "              (0): ReLU()\n",
       "              (1): Conv2d(12, 8, kernel_size=(3, 3), stride=(1, 1), padding=(1, 1))\n",
       "              (2): ReLU()\n",
       "              (3): Conv2d(8, 12, kernel_size=(1, 1), stride=(1, 1))\n",
       "            )\n",
       "          )\n",
       "          (1): ResidualBlock(\n",
       "            (conv): Sequential(\n",
       "              (0): ReLU()\n",
       "              (1): Conv2d(12, 8, kernel_size=(3, 3), stride=(1, 1), padding=(1, 1))\n",
       "              (2): ReLU()\n",
       "              (3): Conv2d(8, 12, kernel_size=(1, 1), stride=(1, 1))\n",
       "            )\n",
       "          )\n",
       "        )\n",
       "      )\n",
       "      (2): ConvTranspose2d(12, 6, kernel_size=(4, 4), stride=(2, 2), padding=(1, 1))\n",
       "      (3): ReLU()\n",
       "      (4): ConvTranspose2d(6, 3, kernel_size=(4, 4), stride=(2, 2), padding=(1, 1))\n",
       "    )\n",
       "  )\n",
       ")"
      ]
     },
     "execution_count": 21,
     "metadata": {},
     "output_type": "execute_result"
    }
   ],
   "source": [
    "vqvae = build_vqvae(\n",
    "    codebook_size=4,\n",
    "    codebook_dim=12,\n",
    "    in_channels=3,\n",
    "    num_channels=16,\n",
    "    num_residual_blocks=2,\n",
    "    num_residual_channels=8\n",
    ")\n",
    "\n",
    "vqvae"
   ]
  },
  {
   "cell_type": "code",
   "execution_count": 24,
   "metadata": {},
   "outputs": [
    {
     "data": {
      "text/plain": [
       "(tensor([[[[ 0.0088,  0.0196,  0.0280,  ...,  0.0313,  0.0230,  0.0392],\n",
       "           [-0.0635,  0.0367,  0.0474,  ...,  0.0488,  0.0540,  0.0407],\n",
       "           [ 0.0390, -0.0199,  0.0262,  ..., -0.0291,  0.0483, -0.0090],\n",
       "           ...,\n",
       "           [-0.0139,  0.0566,  0.0363,  ...,  0.0970,  0.0497,  0.0377],\n",
       "           [ 0.0442, -0.0829, -0.0013,  ..., -0.0636, -0.0416, -0.0318],\n",
       "           [ 0.0586,  0.0840,  0.0377,  ...,  0.0921,  0.0769,  0.0546]],\n",
       " \n",
       "          [[-0.0115, -0.0079,  0.0020,  ...,  0.0034,  0.0427, -0.0096],\n",
       "           [-0.0412, -0.0266,  0.1051,  ...,  0.0210,  0.0308,  0.0538],\n",
       "           [-0.0256,  0.0207,  0.0064,  ...,  0.0083,  0.1088, -0.0390],\n",
       "           ...,\n",
       "           [-0.0058, -0.0018,  0.1042,  ...,  0.0018,  0.0679,  0.0535],\n",
       "           [ 0.0080,  0.0234,  0.0161,  ..., -0.0272,  0.0124, -0.0415],\n",
       "           [ 0.0075, -0.0017,  0.0280,  ..., -0.0023,  0.0379,  0.0142]],\n",
       " \n",
       "          [[-0.0679, -0.0811, -0.0203,  ..., -0.0677,  0.0083, -0.0826],\n",
       "           [-0.0800, -0.1722,  0.0289,  ..., -0.1788, -0.0770, -0.1014],\n",
       "           [-0.0149, -0.1282, -0.1225,  ..., -0.1581, -0.0567, -0.0107],\n",
       "           ...,\n",
       "           [-0.0832, -0.1140, -0.0363,  ..., -0.1361, -0.0729, -0.0628],\n",
       "           [-0.0446, -0.0816, -0.1141,  ..., -0.1182, -0.1052, -0.0050],\n",
       "           [-0.1096, -0.1093, -0.0880,  ..., -0.0548, -0.0972, -0.0561]]]],\n",
       "        grad_fn=<ConvolutionBackward0>),\n",
       " {'quantized': tensor([[[[ 0.1690,  0.1690,  0.1690,  ...,  0.1690,  0.1690,  0.1690],\n",
       "            [ 0.1690,  0.1690,  0.1690,  ...,  0.1690,  0.1690,  0.1690],\n",
       "            [ 0.1690,  0.1690,  0.1690,  ...,  0.1690,  0.1690,  0.1690],\n",
       "            ...,\n",
       "            [ 0.1690,  0.1690,  0.1690,  ...,  0.1690,  0.1690,  0.1690],\n",
       "            [ 0.1690,  0.1690,  0.1690,  ...,  0.1690,  0.1690,  0.1690],\n",
       "            [ 0.1690,  0.1690,  0.1690,  ...,  0.1690,  0.1690,  0.1690]],\n",
       "  \n",
       "           [[-1.0032, -1.0032, -1.0032,  ..., -1.0032, -1.0032, -1.0032],\n",
       "            [-1.0032, -1.0032, -1.0032,  ..., -1.0032, -1.0032, -1.0032],\n",
       "            [-1.0032, -1.0032, -1.0032,  ..., -1.0032, -1.0032, -1.0032],\n",
       "            ...,\n",
       "            [-1.0032, -1.0032, -1.0032,  ..., -1.0032, -1.0032, -1.0032],\n",
       "            [-1.0032, -1.0032, -1.0032,  ..., -1.0032, -1.0032, -1.0032],\n",
       "            [-1.0032, -1.0032, -1.0032,  ..., -1.0032, -1.0032, -1.0032]],\n",
       "  \n",
       "           [[-0.5819, -0.5819, -0.5819,  ..., -0.5819, -0.5819, -0.5819],\n",
       "            [-0.5819, -0.5819, -0.5819,  ..., -0.5819, -0.5819, -0.5819],\n",
       "            [-0.5819, -0.5819, -0.5819,  ..., -0.5819, -0.5819, -0.5819],\n",
       "            ...,\n",
       "            [-0.5819, -0.5819, -0.5819,  ..., -0.5819, -0.5819, -0.5819],\n",
       "            [-0.5819, -0.5819, -0.5819,  ..., -0.5819, -0.5819, -0.5819],\n",
       "            [-0.5819, -0.5819, -0.5819,  ..., -0.5819, -0.5819, -0.5819]],\n",
       "  \n",
       "           ...,\n",
       "  \n",
       "           [[-0.2291, -0.2291, -0.2291,  ..., -0.2291, -0.2291, -0.2291],\n",
       "            [-0.2291, -0.2291, -0.2291,  ..., -0.2291, -0.2291, -0.2291],\n",
       "            [-0.2291, -0.2291, -0.2291,  ..., -0.2291, -0.2291, -0.2291],\n",
       "            ...,\n",
       "            [-0.2291, -0.2291, -0.2291,  ..., -0.2291, -0.2291, -0.2291],\n",
       "            [-0.2291, -0.2291, -0.2291,  ..., -0.2291, -0.2291, -0.2291],\n",
       "            [-0.2291, -0.2291, -0.2291,  ..., -0.2291, -0.2291, -0.2291]],\n",
       "  \n",
       "           [[ 0.9548,  0.9548,  0.9548,  ...,  0.9548,  0.9548,  0.9548],\n",
       "            [ 0.9548,  0.9548,  0.9548,  ...,  0.9548,  0.9548,  0.9548],\n",
       "            [ 0.9548,  0.9548,  0.9548,  ...,  0.9548,  0.9548,  0.9548],\n",
       "            ...,\n",
       "            [ 0.9548,  0.9548,  0.9548,  ...,  0.9548,  0.9548,  0.9548],\n",
       "            [ 0.9548,  0.9548,  0.9548,  ...,  0.9548,  0.9548,  0.9548],\n",
       "            [ 0.9548,  0.9548,  0.9548,  ...,  0.9548,  0.9548,  0.9548]],\n",
       "  \n",
       "           [[ 0.8774,  0.8774,  0.8774,  ...,  0.8774,  0.8774,  0.8774],\n",
       "            [ 0.8774,  0.8774,  0.8774,  ...,  0.8774,  0.8774,  0.8774],\n",
       "            [ 0.8774,  0.8774,  0.8774,  ...,  0.8774,  0.8774,  0.8774],\n",
       "            ...,\n",
       "            [ 0.8774,  0.8774,  0.8774,  ...,  0.8774,  0.8774,  0.8774],\n",
       "            [ 0.8774,  0.8774,  0.8774,  ...,  0.8774,  0.8774,  0.8774],\n",
       "            [ 0.8774,  0.8774,  0.8774,  ...,  0.8774,  0.8774,  0.8774]]]],\n",
       "         grad_fn=<PermuteBackward0>),\n",
       "  'loss': tensor(0.6787, grad_fn=<AddBackward0>),\n",
       "  'perplexity': tensor(1.)})"
      ]
     },
     "execution_count": 24,
     "metadata": {},
     "output_type": "execute_result"
    }
   ],
   "source": [
    "inputs = torch.randn((1, 3, 128, 128))\n",
    "vqvae(inputs)"
   ]
  },
  {
   "cell_type": "code",
   "execution_count": null,
   "metadata": {},
   "outputs": [],
   "source": []
  }
 ],
 "metadata": {
  "kernelspec": {
   "display_name": "vqvaes-Y5Ctg_tt-py3.10",
   "language": "python",
   "name": "python3"
  },
  "language_info": {
   "codemirror_mode": {
    "name": "ipython",
    "version": 3
   },
   "file_extension": ".py",
   "mimetype": "text/x-python",
   "name": "python",
   "nbconvert_exporter": "python",
   "pygments_lexer": "ipython3",
   "version": "3.10.10"
  }
 },
 "nbformat": 4,
 "nbformat_minor": 2
}
