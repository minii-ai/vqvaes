{
 "cells": [
  {
   "cell_type": "code",
   "execution_count": 1,
   "metadata": {},
   "outputs": [],
   "source": [
    "%load_ext autoreload\n",
    "%autoreload 2"
   ]
  },
  {
   "cell_type": "code",
   "execution_count": 2,
   "metadata": {},
   "outputs": [],
   "source": [
    "import sys\n",
    "sys.path.append(\"../\")\n",
    "\n",
    "from vqvaes.models.vq import VQ\n",
    "from vqvaes.models.layers import Encoder, Decoder\n",
    "import torch"
   ]
  },
  {
   "cell_type": "code",
   "execution_count": 3,
   "metadata": {},
   "outputs": [
    {
     "data": {
      "text/plain": [
       "<torch._C.Generator at 0x14fd844ee810>"
      ]
     },
     "execution_count": 3,
     "metadata": {},
     "output_type": "execute_result"
    }
   ],
   "source": [
    "torch.manual_seed(0)"
   ]
  },
  {
   "cell_type": "code",
   "execution_count": 4,
   "metadata": {},
   "outputs": [
    {
     "data": {
      "text/plain": [
       "VQ(\n",
       "  (codebook): Embedding(4, 12)\n",
       ")"
      ]
     },
     "execution_count": 4,
     "metadata": {},
     "output_type": "execute_result"
    }
   ],
   "source": [
    "vq = VQ(\n",
    "    codebook_size=4,\n",
    "    codebook_dim=12\n",
    ")\n",
    "\n",
    "vq"
   ]
  },
  {
   "cell_type": "code",
   "execution_count": 5,
   "metadata": {},
   "outputs": [
    {
     "name": "stderr",
     "output_type": "stream",
     "text": [
      "/home/ubuntu/.cache/pypoetry/virtualenvs/vqvaes-Y5Ctg_tt-py3.10/lib/python3.10/site-packages/torch/cuda/__init__.py:619: UserWarning: Can't initialize NVML\n",
      "  warnings.warn(\"Can't initialize NVML\")\n"
     ]
    },
    {
     "data": {
      "text/plain": [
       "{'quantized': tensor([[[[ 0.1198,  1.2377,  1.1168, -0.2473, -1.3527, -1.6959,  0.5667,\n",
       "             0.7935,  0.5988, -1.5551, -0.3414,  1.8530],\n",
       "           [ 0.4397,  0.1124,  0.6408,  0.4412, -0.1023,  0.7924, -0.2897,\n",
       "             0.0525,  0.5229,  2.3022, -1.4689, -1.5867],\n",
       "           [ 0.4397,  0.1124,  0.6408,  0.4412, -0.1023,  0.7924, -0.2897,\n",
       "             0.0525,  0.5229,  2.3022, -1.4689, -1.5867]],\n",
       " \n",
       "          [[ 0.7502, -0.5855, -0.1734,  0.1835,  1.3894,  1.5863,  0.9463,\n",
       "            -0.8437, -0.6136,  0.0316, -0.4927,  0.2484],\n",
       "           [ 0.1198,  1.2377,  1.1168, -0.2473, -1.3527, -1.6959,  0.5667,\n",
       "             0.7935,  0.5988, -1.5551, -0.3414,  1.8530],\n",
       "           [ 0.1198,  1.2377,  1.1168, -0.2473, -1.3527, -1.6959,  0.5667,\n",
       "             0.7935,  0.5988, -1.5551, -0.3414,  1.8530]],\n",
       " \n",
       "          [[ 0.7502, -0.5855, -0.1734,  0.1835,  1.3894,  1.5863,  0.9463,\n",
       "            -0.8437, -0.6136,  0.0316, -0.4927,  0.2484],\n",
       "           [ 0.7502, -0.5855, -0.1734,  0.1835,  1.3894,  1.5863,  0.9463,\n",
       "            -0.8437, -0.6136,  0.0316, -0.4927,  0.2484],\n",
       "           [ 0.7502, -0.5855, -0.1734,  0.1835,  1.3894,  1.5863,  0.9463,\n",
       "            -0.8437, -0.6136,  0.0316, -0.4927,  0.2484]]]],\n",
       "        grad_fn=<AddBackward0>),\n",
       " 'loss': tensor(1.5661, grad_fn=<AddBackward0>),\n",
       " 'perplexity': tensor(2.8888)}"
      ]
     },
     "execution_count": 5,
     "metadata": {},
     "output_type": "execute_result"
    }
   ],
   "source": [
    "encoding = torch.randn((1, 3, 3, 12), requires_grad=True)\n",
    "vq(encoding)"
   ]
  },
  {
   "cell_type": "code",
   "execution_count": 6,
   "metadata": {},
   "outputs": [
    {
     "data": {
      "text/plain": [
       "(torch.Size([1, 2]), torch.Size([2, 2]))"
      ]
     },
     "execution_count": 6,
     "metadata": {},
     "output_type": "execute_result"
    }
   ],
   "source": [
    "a = torch.tensor([[1, 2]])\n",
    "b = torch.tensor([[3, 4],\n",
    "                  [5, 6]])\n",
    "a.shape, b.shape"
   ]
  },
  {
   "cell_type": "code",
   "execution_count": 7,
   "metadata": {},
   "outputs": [
    {
     "data": {
      "text/plain": [
       "tensor([[-2, -2],\n",
       "        [-4, -4]])"
      ]
     },
     "execution_count": 7,
     "metadata": {},
     "output_type": "execute_result"
    }
   ],
   "source": [
    "c = a - b\n",
    "c"
   ]
  },
  {
   "cell_type": "code",
   "execution_count": 8,
   "metadata": {},
   "outputs": [
    {
     "data": {
      "text/plain": [
       "Encoder(\n",
       "  (encoder): Sequential(\n",
       "    (0): Conv2d(3, 8, kernel_size=(4, 4), stride=(2, 2), padding=(1, 1))\n",
       "    (1): ReLU()\n",
       "    (2): Conv2d(8, 16, kernel_size=(4, 4), stride=(2, 2), padding=(1, 1))\n",
       "    (3): ReLU()\n",
       "    (4): Conv2d(16, 16, kernel_size=(3, 3), stride=(1, 1), padding=(1, 1))\n",
       "    (5): ResidualStack(\n",
       "      (stack): Sequential(\n",
       "        (0): ResidualBlock(\n",
       "          (conv): Sequential(\n",
       "            (0): ReLU()\n",
       "            (1): Conv2d(16, 8, kernel_size=(3, 3), stride=(1, 1), padding=(1, 1))\n",
       "            (2): ReLU()\n",
       "            (3): Conv2d(8, 16, kernel_size=(1, 1), stride=(1, 1))\n",
       "          )\n",
       "        )\n",
       "        (1): ResidualBlock(\n",
       "          (conv): Sequential(\n",
       "            (0): ReLU()\n",
       "            (1): Conv2d(16, 8, kernel_size=(3, 3), stride=(1, 1), padding=(1, 1))\n",
       "            (2): ReLU()\n",
       "            (3): Conv2d(8, 16, kernel_size=(1, 1), stride=(1, 1))\n",
       "          )\n",
       "        )\n",
       "      )\n",
       "    )\n",
       "  )\n",
       ")"
      ]
     },
     "execution_count": 8,
     "metadata": {},
     "output_type": "execute_result"
    }
   ],
   "source": [
    "encoder = Encoder(\n",
    "    in_channels=3,\n",
    "    num_channels=16,\n",
    "    num_residual_blocks=2,\n",
    "    num_residual_channels=8\n",
    ")\n",
    "\n",
    "encoder"
   ]
  },
  {
   "cell_type": "code",
   "execution_count": 9,
   "metadata": {},
   "outputs": [
    {
     "data": {
      "text/plain": [
       "torch.Size([1, 16, 32, 32])"
      ]
     },
     "execution_count": 9,
     "metadata": {},
     "output_type": "execute_result"
    }
   ],
   "source": [
    "input = torch.randn((1, 3, 128, 128))\n",
    "encoder_output = encoder(input)\n",
    "encoder_output.shape"
   ]
  },
  {
   "cell_type": "code",
   "execution_count": 10,
   "metadata": {},
   "outputs": [
    {
     "data": {
      "text/plain": [
       "Decoder(\n",
       "  (decoder): Sequential(\n",
       "    (0): Conv2d(16, 16, kernel_size=(3, 3), stride=(1, 1), padding=(1, 1))\n",
       "    (1): ResidualStack(\n",
       "      (stack): Sequential(\n",
       "        (0): ResidualBlock(\n",
       "          (conv): Sequential(\n",
       "            (0): ReLU()\n",
       "            (1): Conv2d(16, 8, kernel_size=(3, 3), stride=(1, 1), padding=(1, 1))\n",
       "            (2): ReLU()\n",
       "            (3): Conv2d(8, 16, kernel_size=(1, 1), stride=(1, 1))\n",
       "          )\n",
       "        )\n",
       "        (1): ResidualBlock(\n",
       "          (conv): Sequential(\n",
       "            (0): ReLU()\n",
       "            (1): Conv2d(16, 8, kernel_size=(3, 3), stride=(1, 1), padding=(1, 1))\n",
       "            (2): ReLU()\n",
       "            (3): Conv2d(8, 16, kernel_size=(1, 1), stride=(1, 1))\n",
       "          )\n",
       "        )\n",
       "      )\n",
       "    )\n",
       "    (2): ConvTranspose2d(16, 8, kernel_size=(4, 4), stride=(2, 2), padding=(1, 1))\n",
       "    (3): ReLU()\n",
       "    (4): ConvTranspose2d(8, 3, kernel_size=(4, 4), stride=(2, 2), padding=(1, 1))\n",
       "  )\n",
       ")"
      ]
     },
     "execution_count": 10,
     "metadata": {},
     "output_type": "execute_result"
    }
   ],
   "source": [
    "decoder = Decoder(\n",
    "    in_channels=16,\n",
    "    out_channels=3,\n",
    "    num_residual_blocks=2,\n",
    "    num_residual_channels=8\n",
    ")\n",
    "\n",
    "decoder"
   ]
  },
  {
   "cell_type": "code",
   "execution_count": 11,
   "metadata": {},
   "outputs": [
    {
     "data": {
      "text/plain": [
       "torch.Size([1, 3, 128, 128])"
      ]
     },
     "execution_count": 11,
     "metadata": {},
     "output_type": "execute_result"
    }
   ],
   "source": [
    "decoder_output = decoder(encoder_output)\n",
    "decoder_output.shape"
   ]
  },
  {
   "cell_type": "code",
   "execution_count": null,
   "metadata": {},
   "outputs": [],
   "source": []
  },
  {
   "cell_type": "code",
   "execution_count": null,
   "metadata": {},
   "outputs": [],
   "source": []
  }
 ],
 "metadata": {
  "kernelspec": {
   "display_name": "vqvaes-Y5Ctg_tt-py3.10",
   "language": "python",
   "name": "python3"
  },
  "language_info": {
   "codemirror_mode": {
    "name": "ipython",
    "version": 3
   },
   "file_extension": ".py",
   "mimetype": "text/x-python",
   "name": "python",
   "nbconvert_exporter": "python",
   "pygments_lexer": "ipython3",
   "version": "3.10.10"
  }
 },
 "nbformat": 4,
 "nbformat_minor": 2
}
