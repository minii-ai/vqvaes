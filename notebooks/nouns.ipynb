{
 "cells": [
  {
   "cell_type": "code",
   "execution_count": 1,
   "metadata": {},
   "outputs": [],
   "source": [
    "%load_ext autoreload\n",
    "%autoreload 2"
   ]
  },
  {
   "cell_type": "code",
   "execution_count": 21,
   "metadata": {},
   "outputs": [],
   "source": [
    "import sys\n",
    "sys.path.append(\"..\")\n",
    "\n",
    "from data.nouns import NounsDataset, make_dataset, create_dataloader\n",
    "import torchvision.transforms.v2 as v2"
   ]
  },
  {
   "cell_type": "code",
   "execution_count": 13,
   "metadata": {},
   "outputs": [],
   "source": [
    "transform = v2.Compose([\n",
    "    v2.Resize((128, 128)),\n",
    "    v2.ToTensor()\n",
    "])"
   ]
  },
  {
   "cell_type": "code",
   "execution_count": 14,
   "metadata": {},
   "outputs": [
    {
     "data": {
      "text/plain": [
       "<data.nouns.NounsDataset at 0x147712ff6cb0>"
      ]
     },
     "execution_count": 14,
     "metadata": {},
     "output_type": "execute_result"
    }
   ],
   "source": [
    "train, test = make_dataset(transform=transform)\n",
    "train"
   ]
  },
  {
   "cell_type": "code",
   "execution_count": 17,
   "metadata": {},
   "outputs": [
    {
     "data": {
      "text/plain": [
       "44873"
      ]
     },
     "execution_count": 17,
     "metadata": {},
     "output_type": "execute_result"
    }
   ],
   "source": [
    "len(train)"
   ]
  },
  {
   "cell_type": "code",
   "execution_count": 20,
   "metadata": {},
   "outputs": [
    {
     "data": {
      "text/plain": [
       "{'image': tensor([[[0.8353, 0.8353, 0.8353,  ..., 0.8353, 0.8353, 0.8353],\n",
       "          [0.8353, 0.8353, 0.8353,  ..., 0.8353, 0.8353, 0.8353],\n",
       "          [0.8353, 0.8353, 0.8353,  ..., 0.8353, 0.8353, 0.8353],\n",
       "          ...,\n",
       "          [0.8353, 0.8353, 0.8353,  ..., 0.8353, 0.8353, 0.8353],\n",
       "          [0.8353, 0.8353, 0.8353,  ..., 0.8353, 0.8353, 0.8353],\n",
       "          [0.8353, 0.8353, 0.8353,  ..., 0.8353, 0.8353, 0.8353]],\n",
       " \n",
       "         [[0.8471, 0.8471, 0.8471,  ..., 0.8471, 0.8471, 0.8471],\n",
       "          [0.8471, 0.8471, 0.8471,  ..., 0.8471, 0.8471, 0.8471],\n",
       "          [0.8471, 0.8471, 0.8471,  ..., 0.8471, 0.8471, 0.8471],\n",
       "          ...,\n",
       "          [0.8471, 0.8471, 0.8471,  ..., 0.8471, 0.8471, 0.8471],\n",
       "          [0.8471, 0.8471, 0.8471,  ..., 0.8471, 0.8471, 0.8471],\n",
       "          [0.8471, 0.8471, 0.8471,  ..., 0.8471, 0.8471, 0.8471]],\n",
       " \n",
       "         [[0.8824, 0.8824, 0.8824,  ..., 0.8824, 0.8824, 0.8824],\n",
       "          [0.8824, 0.8824, 0.8824,  ..., 0.8824, 0.8824, 0.8824],\n",
       "          [0.8824, 0.8824, 0.8824,  ..., 0.8824, 0.8824, 0.8824],\n",
       "          ...,\n",
       "          [0.8824, 0.8824, 0.8824,  ..., 0.8824, 0.8824, 0.8824],\n",
       "          [0.8824, 0.8824, 0.8824,  ..., 0.8824, 0.8824, 0.8824],\n",
       "          [0.8824, 0.8824, 0.8824,  ..., 0.8824, 0.8824, 0.8824]]]),\n",
       " 'text': 'a pixel art character with square dark gray glasses, a hair-shaped head and a computerblue-colored body on a cool background'}"
      ]
     },
     "execution_count": 20,
     "metadata": {},
     "output_type": "execute_result"
    }
   ],
   "source": [
    "train[0]"
   ]
  },
  {
   "cell_type": "code",
   "execution_count": 29,
   "metadata": {},
   "outputs": [
    {
     "data": {
      "text/plain": [
       "<torch.utils.data.dataloader.DataLoader at 0x147703d9b790>"
      ]
     },
     "execution_count": 29,
     "metadata": {},
     "output_type": "execute_result"
    }
   ],
   "source": [
    "train_loader = create_dataloader(train)\n",
    "train_loader"
   ]
  },
  {
   "cell_type": "code",
   "execution_count": 31,
   "metadata": {},
   "outputs": [
    {
     "name": "stdout",
     "output_type": "stream",
     "text": [
      "torch.Size([4, 3, 128, 128])\n"
     ]
    }
   ],
   "source": [
    "for x in train_loader:\n",
    "    print(x[\"images\"].shape)\n",
    "    break"
   ]
  },
  {
   "cell_type": "code",
   "execution_count": null,
   "metadata": {},
   "outputs": [],
   "source": []
  }
 ],
 "metadata": {
  "kernelspec": {
   "display_name": "vqvaes-Y5Ctg_tt-py3.10",
   "language": "python",
   "name": "python3"
  },
  "language_info": {
   "codemirror_mode": {
    "name": "ipython",
    "version": 3
   },
   "file_extension": ".py",
   "mimetype": "text/x-python",
   "name": "python",
   "nbconvert_exporter": "python",
   "pygments_lexer": "ipython3",
   "version": "3.10.10"
  }
 },
 "nbformat": 4,
 "nbformat_minor": 2
}
